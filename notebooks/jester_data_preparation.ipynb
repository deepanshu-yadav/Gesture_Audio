{
 "cells": [
  {
   "cell_type": "code",
   "execution_count": 50,
   "metadata": {},
   "outputs": [],
   "source": [
    "import numpy as np\n",
    "import cv2\n",
    "import tensorflow as tf\n",
    "import matplotlib.pyplot as plt"
   ]
  },
  {
   "cell_type": "code",
   "execution_count": 51,
   "metadata": {},
   "outputs": [
    {
     "name": "stdout",
     "output_type": "stream",
     "text": [
      "[name: \"/device:CPU:0\"\n",
      "device_type: \"CPU\"\n",
      "memory_limit: 268435456\n",
      "locality {\n",
      "}\n",
      "incarnation: 10598065586811741176\n",
      ", name: \"/device:XLA_CPU:0\"\n",
      "device_type: \"XLA_CPU\"\n",
      "memory_limit: 17179869184\n",
      "locality {\n",
      "}\n",
      "incarnation: 14982706565213778576\n",
      "physical_device_desc: \"device: XLA_CPU device\"\n",
      "]\n"
     ]
    }
   ],
   "source": [
    "from tensorflow.python.client import device_lib \n",
    "print(device_lib.list_local_devices())"
   ]
  },
  {
   "cell_type": "code",
   "execution_count": 52,
   "metadata": {},
   "outputs": [],
   "source": [
    "import os\n",
    "import math\n",
    "import pandas as pd\n",
    "import matplotlib.image as img\n",
    "import matplotlib.pyplot as plt\n",
    "from sklearn.preprocessing import StandardScaler"
   ]
  },
  {
   "cell_type": "code",
   "execution_count": 53,
   "metadata": {},
   "outputs": [
    {
     "data": {
      "text/plain": [
       "'2.1.0'"
      ]
     },
     "execution_count": 53,
     "metadata": {},
     "output_type": "execute_result"
    }
   ],
   "source": [
    "tf.__version__"
   ]
  },
  {
   "cell_type": "code",
   "execution_count": 54,
   "metadata": {},
   "outputs": [],
   "source": [
    "# return gray image\n",
    "def rgb2gray(rgb):\n",
    "    return np.dot(rgb[...,:3], [0.2989, 0.5870, 0.1140])\n"
   ]
  },
  {
   "cell_type": "code",
   "execution_count": 55,
   "metadata": {},
   "outputs": [],
   "source": [
    "# # training targets, you can use your custome csv file if you already created it with \"training-sample.py\"\n",
    "# targets = pd.Series.from_csv('../Downloads/jester-v1-train.csv',header=None,sep = \";\").to_dict()\n",
    "# targets[34870]\n",
    "# # validation targets, you can use your custome csv file if you already created it with \"validation-sample.py\"\n",
    "# targets_validation = pd.Series.from_csv('../Downloads/jester-v1-validation.csv',header=None,sep = \";\").to_dict()\n",
    "# targets_validation[9223]\n",
    "\n",
    "training_labels_df = pd.read_csv('../Downloads/jester/jester-v1-train.csv' , header=None,sep = \";\")\n",
    "validation_labels_df = pd.read_csv('../Downloads/jester/jester-v1-validation.csv' , header=None,sep = \";\")"
   ]
  },
  {
   "cell_type": "code",
   "execution_count": 56,
   "metadata": {},
   "outputs": [],
   "source": [
    "targets_name = [\n",
    "    \"Thumb Down\",\n",
    "    \"Stop Sign\",\n",
    "    \"Sliding Two Fingers Left\",\n",
    "    \"Sliding Two Fingers Right\",\n",
    "    \"No gesture\",\n",
    "    \"Thumb Up\"\n",
    "    ]"
   ]
  },
  {
   "cell_type": "code",
   "execution_count": 57,
   "metadata": {},
   "outputs": [],
   "source": [
    "def select_column(col_name):\n",
    "    if col_name in targets_name:\n",
    "        return 1\n",
    "    else:\n",
    "        return 0\n",
    "    \n",
    "training_labels_df['filtered'] = training_labels_df.iloc[:,1].apply(select_column)\n",
    "validation_labels_df['filtered'] = validation_labels_df.iloc[:,1].apply(select_column)"
   ]
  },
  {
   "cell_type": "code",
   "execution_count": 58,
   "metadata": {},
   "outputs": [],
   "source": [
    "training_labels_df.columns = ['class_no' , 'class_name' , 'filtered']"
   ]
  },
  {
   "cell_type": "code",
   "execution_count": 59,
   "metadata": {},
   "outputs": [],
   "source": [
    "validation_labels_df.columns = ['class_no' , 'class_name' , 'filtered']"
   ]
  },
  {
   "cell_type": "code",
   "execution_count": 60,
   "metadata": {},
   "outputs": [
    {
     "data": {
      "text/html": [
       "<div>\n",
       "<style scoped>\n",
       "    .dataframe tbody tr th:only-of-type {\n",
       "        vertical-align: middle;\n",
       "    }\n",
       "\n",
       "    .dataframe tbody tr th {\n",
       "        vertical-align: top;\n",
       "    }\n",
       "\n",
       "    .dataframe thead th {\n",
       "        text-align: right;\n",
       "    }\n",
       "</style>\n",
       "<table border=\"1\" class=\"dataframe\">\n",
       "  <thead>\n",
       "    <tr style=\"text-align: right;\">\n",
       "      <th></th>\n",
       "      <th>class_no</th>\n",
       "      <th>class_name</th>\n",
       "      <th>filtered</th>\n",
       "    </tr>\n",
       "  </thead>\n",
       "  <tbody>\n",
       "    <tr>\n",
       "      <th>0</th>\n",
       "      <td>34870</td>\n",
       "      <td>Drumming Fingers</td>\n",
       "      <td>0</td>\n",
       "    </tr>\n",
       "    <tr>\n",
       "      <th>1</th>\n",
       "      <td>56557</td>\n",
       "      <td>Sliding Two Fingers Right</td>\n",
       "      <td>1</td>\n",
       "    </tr>\n",
       "    <tr>\n",
       "      <th>2</th>\n",
       "      <td>129112</td>\n",
       "      <td>Sliding Two Fingers Down</td>\n",
       "      <td>0</td>\n",
       "    </tr>\n",
       "    <tr>\n",
       "      <th>3</th>\n",
       "      <td>63861</td>\n",
       "      <td>Pulling Two Fingers In</td>\n",
       "      <td>0</td>\n",
       "    </tr>\n",
       "    <tr>\n",
       "      <th>4</th>\n",
       "      <td>131717</td>\n",
       "      <td>Sliding Two Fingers Up</td>\n",
       "      <td>0</td>\n",
       "    </tr>\n",
       "  </tbody>\n",
       "</table>\n",
       "</div>"
      ],
      "text/plain": [
       "   class_no                 class_name  filtered\n",
       "0     34870           Drumming Fingers         0\n",
       "1     56557  Sliding Two Fingers Right         1\n",
       "2    129112   Sliding Two Fingers Down         0\n",
       "3     63861     Pulling Two Fingers In         0\n",
       "4    131717     Sliding Two Fingers Up         0"
      ]
     },
     "execution_count": 60,
     "metadata": {},
     "output_type": "execute_result"
    }
   ],
   "source": [
    "training_labels_df.head()"
   ]
  },
  {
   "cell_type": "code",
   "execution_count": 61,
   "metadata": {},
   "outputs": [
    {
     "data": {
      "text/html": [
       "<div>\n",
       "<style scoped>\n",
       "    .dataframe tbody tr th:only-of-type {\n",
       "        vertical-align: middle;\n",
       "    }\n",
       "\n",
       "    .dataframe tbody tr th {\n",
       "        vertical-align: top;\n",
       "    }\n",
       "\n",
       "    .dataframe thead th {\n",
       "        text-align: right;\n",
       "    }\n",
       "</style>\n",
       "<table border=\"1\" class=\"dataframe\">\n",
       "  <thead>\n",
       "    <tr style=\"text-align: right;\">\n",
       "      <th></th>\n",
       "      <th>class_no</th>\n",
       "      <th>class_name</th>\n",
       "      <th>filtered</th>\n",
       "    </tr>\n",
       "  </thead>\n",
       "  <tbody>\n",
       "    <tr>\n",
       "      <th>0</th>\n",
       "      <td>9223</td>\n",
       "      <td>Thumb Up</td>\n",
       "      <td>1</td>\n",
       "    </tr>\n",
       "    <tr>\n",
       "      <th>1</th>\n",
       "      <td>107090</td>\n",
       "      <td>Pushing Two Fingers Away</td>\n",
       "      <td>0</td>\n",
       "    </tr>\n",
       "    <tr>\n",
       "      <th>2</th>\n",
       "      <td>42920</td>\n",
       "      <td>Swiping Left</td>\n",
       "      <td>0</td>\n",
       "    </tr>\n",
       "    <tr>\n",
       "      <th>3</th>\n",
       "      <td>106485</td>\n",
       "      <td>Thumb Down</td>\n",
       "      <td>1</td>\n",
       "    </tr>\n",
       "    <tr>\n",
       "      <th>4</th>\n",
       "      <td>142201</td>\n",
       "      <td>Rolling Hand Backward</td>\n",
       "      <td>0</td>\n",
       "    </tr>\n",
       "  </tbody>\n",
       "</table>\n",
       "</div>"
      ],
      "text/plain": [
       "   class_no                class_name  filtered\n",
       "0      9223                  Thumb Up         1\n",
       "1    107090  Pushing Two Fingers Away         0\n",
       "2     42920              Swiping Left         0\n",
       "3    106485                Thumb Down         1\n",
       "4    142201     Rolling Hand Backward         0"
      ]
     },
     "execution_count": 61,
     "metadata": {},
     "output_type": "execute_result"
    }
   ],
   "source": [
    "validation_labels_df.head()"
   ]
  },
  {
   "cell_type": "code",
   "execution_count": 62,
   "metadata": {},
   "outputs": [],
   "source": [
    "ROOT_DIR = '../Downloads/jester/20bn-jester-v1'\n",
    "import os\n",
    "import shutil\n",
    "\n",
    "\n",
    "def filter_out_dataset(df, targets_name, train=True):\n",
    "    \n",
    "    try:\n",
    "        for class_name in targets_name:\n",
    "            if train:\n",
    "                os.makedirs(os.path.join('jester','train' , class_name))\n",
    "            else:\n",
    "                os.makedirs(os.path.join('jester','valid' , class_name))\n",
    "    except FileExistsError:\n",
    "            pass\n",
    "        \n",
    "    for i in range(df.shape[0]):\n",
    "        if df.loc[i,'filtered'] == 1:\n",
    "            # print(df.loc[i,'class_no'] ,df.loc[i,'class_name'] )\n",
    "            source = os.path.join(ROOT_DIR , str(df.loc[i,'class_no'] ) )\n",
    "            if train:\n",
    "                destination = os.path.join('jester','train' , df.loc[i,'class_name'])\n",
    "            else:\n",
    "                destination = os.path.join('jester','valid' , df.loc[i,'class_name'])\n",
    "            # print(source , destination)\n",
    "            shutil.move( source , destination )\n",
    "            \n",
    "        \n",
    "filter_out_dataset(training_labels_df,targets_name,True)\n",
    "filter_out_dataset(validation_labels_df,targets_name,False)\n"
   ]
  },
  {
   "cell_type": "code",
   "execution_count": 80,
   "metadata": {},
   "outputs": [],
   "source": [
    "# return gray image\n",
    "from PIL import Image\n",
    "def rgb2gray(rgb):\n",
    "    return np.dot(rgb[...,:3], [0.2989, 0.5870, 0.1140])\n",
    "\n",
    "# Resize frames\n",
    "def resize_frame(frame):\n",
    "    frame = cv2.imread(frame)\n",
    "    frame = cv2.resize(frame, (64, 64))\n",
    "    return frame\n",
    "\n",
    "\n",
    "def clean_and_preprocess_dataset(root_dir , targets_name , train):\n",
    "    \n",
    "    for class_name in targets_name:\n",
    "        if train:\n",
    "            base_path =  os.path.join(root_dir, 'train', class_name)\n",
    "            folder_list = os.listdir(base_path)\n",
    "            \n",
    "        else:\n",
    "            base_path = os.path.join(root_dir, 'valid', class_name)\n",
    "            folder_list = os.listdir(base_path)\n",
    "            \n",
    "        #print(folder_list)\n",
    "        \n",
    "        for each_folder in folder_list:\n",
    "            folder_path = os.path.join(base_path,each_folder)\n",
    "            \n",
    "            frames = os.listdir(folder_path)\n",
    "            new_folder_path = folder_path.replace('jester', 'jester_processed')\n",
    "            \n",
    "            try:\n",
    "                os.makedirs(new_folder_path)\n",
    "            except FileExistsError:\n",
    "                pass\n",
    "            \n",
    "            frame_length = len(frames)\n",
    "            frames = sorted(frames)\n",
    "            if frame_length < 30:\n",
    "                for _ in range(30- frame_length):\n",
    "                    frames.append(frames[frame_length-1])\n",
    "            else:\n",
    "                frames = frames[:30]\n",
    "                \n",
    "            for each_frame in frames:\n",
    "                frames_path = os.path.join(folder_path,each_frame)\n",
    "#                 im = Image.open(frames_path)\n",
    "#                 imResize = im.resize((64,64), Image.ANTIALIAS)\n",
    "#                 imgBlack = imResize.convert('LA')\n",
    "#                 frames_path_name = frames_path.split('.')[0]\n",
    "#                 imgBlack.save(frames_path)\n",
    "                # print(frames_path_name)\n",
    "                resized = resize_frame(frames_path)\n",
    "                gray = rgb2gray(resized)\n",
    "                new_frames_path = frames_path.replace('jester', 'jester_processed')\n",
    "                #print(new_frames_path)\n",
    "                cv2.imwrite(new_frames_path, gray)\n",
    "                #print(gray.shape)\n",
    "                  \n",
    "        \n",
    "\n",
    "clean_and_preprocess_dataset('jester', targets_name, True)\n",
    "clean_and_preprocess_dataset('jester', targets_name, False)"
   ]
  },
  {
   "cell_type": "code",
   "execution_count": 2,
   "metadata": {},
   "outputs": [],
   "source": [
    "targets_dict = {\n",
    "    \"Thumb Down\":0,\n",
    "    \"Stop Sign\":1,\n",
    "    \"Sliding Two Fingers Left\":2,\n",
    "    \"Sliding Two Fingers Right\":3,\n",
    "    \"No gesture\":4,\n",
    "    \"Thumb Up\":5\n",
    "    }\n",
    "\n"
   ]
  },
  {
   "cell_type": "code",
   "execution_count": 12,
   "metadata": {},
   "outputs": [],
   "source": [
    "import os , cv2 \n",
    "import numpy as np\n",
    "\n",
    "def get_total_samples(datadir , targets_dict , train):\n",
    "    counter = 0\n",
    "    for class_name, label in targets_dict.items():\n",
    "        if train:\n",
    "            base_path =  os.path.join(datadir, 'train', class_name)\n",
    "            folder_list = os.listdir(base_path)\n",
    "\n",
    "        else:\n",
    "            base_path = os.path.join(datadir, 'valid', class_name)\n",
    "            folder_list = os.listdir(base_path)\n",
    "\n",
    "        #print(folder_list)\n",
    "\n",
    "        for each_folder in folder_list:\n",
    "            counter += 1\n",
    "    return counter\n",
    "\n",
    "def prepare_numpy_array(datadir , targets_dict , train):\n",
    "    \n",
    "    \n",
    "    \n",
    "    n = get_total_samples(datadir , targets_dict , train)\n",
    "    \n",
    "    X_data = np.empty((n,30,64,64) , dtype=np.uint8)\n",
    "    X_labels = np.empty((n))\n",
    "    \n",
    "    cn = 0\n",
    "    for class_name, label in targets_dict.items():\n",
    "        if train:\n",
    "            base_path =  os.path.join(datadir, 'train', class_name)\n",
    "            folder_list = os.listdir(base_path)\n",
    "            \n",
    "        else:\n",
    "            base_path = os.path.join(datadir, 'valid', class_name)\n",
    "            folder_list = os.listdir(base_path)\n",
    "            \n",
    "        #print(folder_list)\n",
    "        \n",
    "        for each_folder in folder_list:\n",
    "            folder_path = os.path.join(base_path,each_folder)\n",
    "            \n",
    "            frames = os.listdir(folder_path)\n",
    "            frames = sorted(frames)    \n",
    "            \n",
    "            X_labels[cn]= label\n",
    "            \n",
    "            single_sample = np.empty( (30,64,64), dtype=np.uint8)\n",
    "            # print(single_sample.shape)\n",
    "            for f, each_frame in enumerate(frames):\n",
    "                frames_path = os.path.join(folder_path,each_frame)\n",
    "                single_frame = cv2.imread(frames_path)\n",
    "                # print(single_frame.dtype)\n",
    "                single_sample[f,:,:] = single_frame[:,:,0]\n",
    "                # print(frames_path)r\n",
    "                \n",
    "            X_data[cn,:,:,:] = single_sample\n",
    "            cn += 1\n",
    "            \n",
    "        \n",
    "                    \n",
    "    return X_data, X_labels\n",
    "                \n",
    "                               \n",
    "X_train , y_train = prepare_numpy_array('jester_processed' , targets_dict , True)\n",
    "X_valid , y_valid = prepare_numpy_array('jester_processed' , targets_dict , False)\n",
    "\n",
    "# print(y_train)"
   ]
  },
  {
   "cell_type": "code",
   "execution_count": 17,
   "metadata": {},
   "outputs": [],
   "source": [
    "np.save('jester_X_train', X_train)\n",
    "np.save('jester_y_train', y_train)\n",
    "np.save('jester_X_valid', X_valid)\n",
    "np.save('jester_y_valid', y_valid)\n"
   ]
  },
  {
   "cell_type": "code",
   "execution_count": 18,
   "metadata": {},
   "outputs": [
    {
     "data": {
      "text/plain": [
       "107.56613544380178"
      ]
     },
     "execution_count": 18,
     "metadata": {},
     "output_type": "execute_result"
    }
   ],
   "source": [
    "X_train.mean()"
   ]
  },
  {
   "cell_type": "code",
   "execution_count": null,
   "metadata": {},
   "outputs": [],
   "source": []
  }
 ],
 "metadata": {
  "kernelspec": {
   "display_name": "Python 3",
   "language": "python",
   "name": "python3"
  },
  "language_info": {
   "codemirror_mode": {
    "name": "ipython",
    "version": 3
   },
   "file_extension": ".py",
   "mimetype": "text/x-python",
   "name": "python",
   "nbconvert_exporter": "python",
   "pygments_lexer": "ipython3",
   "version": "3.7.6"
  }
 },
 "nbformat": 4,
 "nbformat_minor": 2
}
